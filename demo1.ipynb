{
 "cells": [
  {
   "cell_type": "code",
   "execution_count": 1,
   "id": "ee22d9be",
   "metadata": {},
   "outputs": [],
   "source": [
    "user_db = {\n",
    "    1:{\"name\":\"sujay\",\"age\": 50},\n",
    "    2:{\"name\":\"radhika\",\"age\": 43},\n",
    "    3:{\"name\":\"jay\",\"age\": 17}\n",
    "}"
   ]
  },
  {
   "cell_type": "code",
   "execution_count": 2,
   "id": "d54acd1f",
   "metadata": {},
   "outputs": [
    {
     "data": {
      "text/plain": [
       "'sujay'"
      ]
     },
     "execution_count": 2,
     "metadata": {},
     "output_type": "execute_result"
    }
   ],
   "source": [
    "user_db[1]['name']"
   ]
  },
  {
   "cell_type": "code",
   "execution_count": 4,
   "id": "260877c5",
   "metadata": {},
   "outputs": [],
   "source": [
    "user_db[1] = {\"name\":\"radhika\",\"age\": 40}"
   ]
  },
  {
   "cell_type": "code",
   "execution_count": 7,
   "id": "ec3f7308",
   "metadata": {},
   "outputs": [
    {
     "data": {
      "text/plain": [
       "{2: {'name': 'radhika', 'age': 43}, 3: {'name': 'jay', 'age': 17}}"
      ]
     },
     "execution_count": 7,
     "metadata": {},
     "output_type": "execute_result"
    }
   ],
   "source": [
    "user_db"
   ]
  },
  {
   "cell_type": "code",
   "execution_count": 6,
   "id": "943a42e6",
   "metadata": {},
   "outputs": [],
   "source": [
    "del user_db[1]"
   ]
  }
 ],
 "metadata": {
  "kernelspec": {
   "display_name": "Python 3",
   "language": "python",
   "name": "python3"
  },
  "language_info": {
   "codemirror_mode": {
    "name": "ipython",
    "version": 3
   },
   "file_extension": ".py",
   "mimetype": "text/x-python",
   "name": "python",
   "nbconvert_exporter": "python",
   "pygments_lexer": "ipython3",
   "version": "3.13.5"
  }
 },
 "nbformat": 4,
 "nbformat_minor": 5
}
